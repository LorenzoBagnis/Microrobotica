{
 "cells": [
  {
   "cell_type": "markdown",
   "id": "4dab62c0",
   "metadata": {},
   "source": [
    "## compiti per il 20\n",
    "### es1"
   ]
  },
  {
   "cell_type": "code",
   "execution_count": 1,
   "id": "2e3e2195",
   "metadata": {},
   "outputs": [
    {
     "name": "stdout",
     "output_type": "stream",
     "text": [
      "<class 'int'> 5\n",
      "<class 'str'> ciao\n",
      "<class 'float'> 7.7\n",
      "<class 'bool'> True\n"
     ]
    }
   ],
   "source": [
    "a = 5\n",
    "b = \"ciao\"\n",
    "c = 7.7\n",
    "d = True\n",
    "print(type(a), a)\n",
    "print(type(b), b)\n",
    "print(type(c), c)\n",
    "print(type(d), d)"
   ]
  },
  {
   "cell_type": "markdown",
   "id": "c0dd99ed",
   "metadata": {},
   "source": [
    "### es2"
   ]
  },
  {
   "cell_type": "code",
   "execution_count": 2,
   "id": "325defca",
   "metadata": {
    "scrolled": true
   },
   "outputs": [
    {
     "name": "stdout",
     "output_type": "stream",
     "text": [
      "<class 'int'> 5\n",
      "<class 'str'> ciao\n",
      "<class 'float'> 7.7\n",
      "<class 'bool'> True\n"
     ]
    }
   ],
   "source": [
    "a, b, c, d = 5, \"ciao\", 7.7, True\n",
    "print(type(a), a)\n",
    "print(type(b), b)\n",
    "print(type(c), c)\n",
    "print(type(d), d)"
   ]
  },
  {
   "cell_type": "markdown",
   "id": "a3106f4c",
   "metadata": {},
   "source": [
    "### es3"
   ]
  },
  {
   "cell_type": "code",
   "execution_count": 3,
   "id": "50c74d7b",
   "metadata": {},
   "outputs": [
    {
     "name": "stdout",
     "output_type": "stream",
     "text": [
      "intero 1: 5, intero 2: 7\n",
      "intero 1: 7, intero 2: 5\n"
     ]
    }
   ],
   "source": [
    "a, b= 5, 7\n",
    "print(f\"intero 1: {a}, intero 2: {b}\")\n",
    "a, b= b, a\n",
    "print(f\"intero 1: {a}, intero 2: {b}\")"
   ]
  },
  {
   "cell_type": "markdown",
   "id": "66427b26",
   "metadata": {},
   "source": [
    "### es4"
   ]
  },
  {
   "cell_type": "code",
   "execution_count": 4,
   "id": "5d2a57b6",
   "metadata": {},
   "outputs": [
    {
     "name": "stdout",
     "output_type": "stream",
     "text": [
      "iniziale: C, finale: o\n"
     ]
    }
   ],
   "source": [
    "a = \"Ciao Mondo\"\n",
    "print(f\"iniziale: {a[0]}, finale: {a[-1]}\")"
   ]
  },
  {
   "cell_type": "markdown",
   "id": "cb9c64c6",
   "metadata": {},
   "source": [
    "### es5"
   ]
  },
  {
   "cell_type": "code",
   "execution_count": 5,
   "id": "519295de",
   "metadata": {},
   "outputs": [
    {
     "name": "stdout",
     "output_type": "stream",
     "text": [
      "i\n",
      "a\n",
      "o\n",
      " \n",
      "m\n",
      "o\n",
      "n\n",
      "d\n"
     ]
    }
   ],
   "source": [
    "a = \"Ciao mondo\"\n",
    "for i in range (0, len(a)-1):\n",
    "    if(i!=0 and i!=len(a)-1):\n",
    "        print(f\"{a[i]}\")"
   ]
  },
  {
   "cell_type": "markdown",
   "id": "393e3af9",
   "metadata": {},
   "source": [
    "### es6"
   ]
  },
  {
   "cell_type": "code",
   "execution_count": 6,
   "id": "7e426adb",
   "metadata": {},
   "outputs": [
    {
     "name": "stdout",
     "output_type": "stream",
     "text": [
      "i\n",
      "o\n",
      "m\n",
      "n\n",
      "o\n"
     ]
    }
   ],
   "source": [
    "a = \"Ciao mondo\"\n",
    "for i in range (0, len(a)):\n",
    "    if(i%2!=0):\n",
    "        print(f\"{a[i]}\")"
   ]
  },
  {
   "cell_type": "markdown",
   "id": "0cc5cfea",
   "metadata": {},
   "source": [
    "#### es7"
   ]
  },
  {
   "cell_type": "code",
   "execution_count": 7,
   "id": "a14ad6bb",
   "metadata": {},
   "outputs": [
    {
     "data": {
      "text/plain": [
       "'odnom oaiC'"
      ]
     },
     "execution_count": 7,
     "metadata": {},
     "output_type": "execute_result"
    }
   ],
   "source": [
    "a = \"Ciao mondo\"\n",
    "a[::-1]"
   ]
  },
  {
   "cell_type": "markdown",
   "id": "99b12f1d",
   "metadata": {},
   "source": [
    "### es8"
   ]
  },
  {
   "cell_type": "code",
   "execution_count": 13,
   "id": "7737ea87",
   "metadata": {},
   "outputs": [
    {
     "name": "stdout",
     "output_type": "stream",
     "text": [
      "C\n",
      "i\n",
      "?\n",
      "o\n",
      " \n",
      "m\n",
      "o\n",
      "n\n",
      "d\n",
      "o\n"
     ]
    }
   ],
   "source": [
    "a = \"Ciao mondo\"\n",
    "for i in range (0, len(a)):\n",
    "    if(i!=2):\n",
    "        print(f\"{a[i]}\")\n",
    "    else:\n",
    "        print(f\"?\")"
   ]
  },
  {
   "cell_type": "markdown",
   "id": "ae66950b",
   "metadata": {},
   "source": [
    "### es9"
   ]
  },
  {
   "cell_type": "code",
   "execution_count": 9,
   "id": "a396011c",
   "metadata": {},
   "outputs": [
    {
     "name": "stdout",
     "output_type": "stream",
     "text": [
      "Distanza tra punto 1:(2, 3) e punto 2:(5, 7):, 5.0\n"
     ]
    }
   ],
   "source": [
    "punto1 = (2, 3)\n",
    "punto2 = (5, 7)\n",
    "x1, y1 = punto1\n",
    "x2, y2 = punto2\n",
    "distanza = ((x2 - x1) ** 2 + (y2 - y1) ** 2) ** 0.5\n",
    "print(f\"Distanza tra punto 1:{punto1} e punto 2:{punto2}:, {distanza}\")"
   ]
  },
  {
   "cell_type": "markdown",
   "id": "71454381",
   "metadata": {},
   "source": [
    "### es10"
   ]
  },
  {
   "cell_type": "code",
   "execution_count": 3,
   "id": "85d3203d",
   "metadata": {},
   "outputs": [
    {
     "name": "stdout",
     "output_type": "stream",
     "text": [
      "La lista senza primo e ultimo elemento è: [7, 9, 6, 8, 4]\n",
      "[4, 7, 9]\n"
     ]
    }
   ],
   "source": [
    "lista = [4, 7, 9, 6, 8, 4, 5]\n",
    "print(f\"La lista senza primo e ultimo elemento è: {lista[1:-1]}\")\n",
    "lista[3]=10\n",
    "print(f\"{lista[0:3]}\")"
   ]
  },
  {
   "cell_type": "markdown",
   "id": "96d0e46f",
   "metadata": {},
   "source": [
    "### es11"
   ]
  },
  {
   "cell_type": "code",
   "execution_count": 9,
   "id": "853b9e22",
   "metadata": {},
   "outputs": [
    {
     "name": "stdout",
     "output_type": "stream",
     "text": [
      "lista1: [0, 1, 2, 3, 4, 5], lista2: [5, 6, 7, 8, 9]\n"
     ]
    }
   ],
   "source": [
    "lista = list(range(0,10))\n",
    "lunghezza= len(lista)\n",
    "lista1= lista[:(lunghezza//2)]\n",
    "lista2= lista[lunghezza//2:]\n",
    "lista1.append(5)\n",
    "print(f\"lista1: {lista1}, lista2: {lista2}\")"
   ]
  },
  {
   "cell_type": "markdown",
   "id": "e3707d4e",
   "metadata": {},
   "source": [
    "### es12"
   ]
  },
  {
   "cell_type": "code",
   "execution_count": 12,
   "id": "2bfe96a8",
   "metadata": {},
   "outputs": [
    {
     "name": "stdout",
     "output_type": "stream",
     "text": [
      "concatenazione liste: [0, 1, 2, 3, 4, 5, 6, 7]\n"
     ]
    }
   ],
   "source": [
    "lista1= [0, 1, 2, 3]\n",
    "lista2= [4, 5, 6, 7]\n",
    "ConcatenzaioneListe= lista1 + lista2\n",
    "print(f\"concatenazione liste: {ConcatenzaioneListe}\")"
   ]
  },
  {
   "cell_type": "markdown",
   "id": "f281002b",
   "metadata": {},
   "source": [
    "### es13"
   ]
  },
  {
   "cell_type": "code",
   "execution_count": 24,
   "id": "f895fefc",
   "metadata": {},
   "outputs": [
    {
     "name": "stdout",
     "output_type": "stream",
     "text": [
      "3703423066\n",
      "{'Alessio': 3289248992, 'Lorenzo': 3703423066, 'Alessadro': 3313456780, 'Davide': 3483481234}\n"
     ]
    }
   ],
   "source": [
    "Rubrica = {\"Alessio\": 3289248992, \"Lorenzo\": 3703423066, \"Alessadro\": 3313456780}\n",
    "print(Rubrica[\"Lorenzo\"])\n",
    "Rubrica[\"Davide\"] = 3483481234\n",
    "print(Rubrica)"
   ]
  },
  {
   "cell_type": "markdown",
   "id": "4126a879",
   "metadata": {},
   "source": [
    "### es14"
   ]
  },
  {
   "cell_type": "code",
   "execution_count": 25,
   "id": "c3e8c7b2",
   "metadata": {},
   "outputs": [
    {
     "name": "stdout",
     "output_type": "stream",
     "text": [
      "inserisci un nome:Lorenzo\n"
     ]
    },
    {
     "data": {
      "text/plain": [
       "'ozneroL'"
      ]
     },
     "execution_count": 25,
     "metadata": {},
     "output_type": "execute_result"
    }
   ],
   "source": [
    "nome = input(\"inserisci un nome: \")\n",
    "nome[::-1]"
   ]
  },
  {
   "cell_type": "markdown",
   "id": "cb705d57",
   "metadata": {},
   "source": [
    "### es15"
   ]
  },
  {
   "cell_type": "code",
   "execution_count": 28,
   "id": "9d23a5c7",
   "metadata": {},
   "outputs": [
    {
     "name": "stdout",
     "output_type": "stream",
     "text": [
      "inserisci un nome:Lorenzo\n",
      "L\n",
      "*\n",
      "*\n",
      "*\n",
      "*\n",
      "*\n",
      "*\n"
     ]
    }
   ],
   "source": [
    "nome = input(\"inserisci un nome: \")\n",
    "for i in range (0, len(nome)):\n",
    "    if(i!=0):\n",
    "        print(\"*\")\n",
    "    else:\n",
    "        print(nome[i])"
   ]
  },
  {
   "cell_type": "markdown",
   "id": "f3405983",
   "metadata": {},
   "source": [
    "### es16"
   ]
  },
  {
   "cell_type": "code",
   "execution_count": 32,
   "id": "ccd38595",
   "metadata": {},
   "outputs": [
    {
     "name": "stdout",
     "output_type": "stream",
     "text": [
      "inserisci un nome: Lorenzo\n",
      "['L', 'o', 'r', 'e', 'n', 'z', 'o']\n"
     ]
    }
   ],
   "source": [
    "nome = input(\"inserisci un nome: \")\n",
    "lista1= list(nome)\n",
    "print(lista1)"
   ]
  },
  {
   "cell_type": "markdown",
   "id": "c3f4de2c",
   "metadata": {},
   "source": [
    "### es17"
   ]
  },
  {
   "cell_type": "code",
   "execution_count": 9,
   "id": "e121b051",
   "metadata": {},
   "outputs": [
    {
     "name": "stdout",
     "output_type": "stream",
     "text": [
      "inserire coordinata 1 punto 1: 7\n",
      "inserire coordinata 2 punto 1: 4\n",
      "inserire coordinata 1 punto 2: 5\n",
      "inserire coordinata 2 punto 2: 8\n",
      "Distanza tra punto 1:(7, 4) e punto 2:(5, 8):, 4.47213595499958\n"
     ]
    }
   ],
   "source": [
    "punto1 = int(input(\"inserire coordinata 1 punto 1: \")), int(input(\"inserire coordinata 2 punto 1: \"))\n",
    "punto2 = int(input(\"inserire coordinata 1 punto 2: \")), int(input(\"inserire coordinata 2 punto 2: \"))\n",
    "x1, y1 = punto1\n",
    "x2, y2 = punto2\n",
    "distanza = ((x2 - x1) ** 2 + (y2 - y1) ** 2) ** 0.5\n",
    "print(f\"Distanza tra punto 1:{punto1} e punto 2:{punto2}: {distanza}\")"
   ]
  },
  {
   "cell_type": "markdown",
   "id": "8b218fcc",
   "metadata": {},
   "source": [
    "### es18"
   ]
  },
  {
   "cell_type": "code",
   "execution_count": 16,
   "id": "4a2c6b33",
   "metadata": {},
   "outputs": [
    {
     "name": "stdout",
     "output_type": "stream",
     "text": [
      "inserire numero 1: 7\n",
      "inserire numero 2: 5\n"
     ]
    },
    {
     "data": {
      "text/plain": [
       "[74, 144, 24, 4]"
      ]
     },
     "execution_count": 16,
     "metadata": {},
     "output_type": "execute_result"
    }
   ],
   "source": [
    "n1, n2 = int(input(\"inserire numero 1: \")), int(input(\"inserire numero 2: \"))\n",
    "lista = [(n1**2)+(n2**2), (n1+n2)**2, (n1**2)-(n2**2), (n1-n2)**2]\n",
    "lista"
   ]
  },
  {
   "cell_type": "markdown",
   "id": "64a06091",
   "metadata": {},
   "source": [
    "### es19"
   ]
  },
  {
   "cell_type": "code",
   "execution_count": 4,
   "id": "ff0e738e",
   "metadata": {},
   "outputs": [
    {
     "name": "stdout",
     "output_type": "stream",
     "text": [
      "inserire numero 1: 6\n",
      "inserire numero 2: 7\n"
     ]
    },
    {
     "data": {
      "text/plain": [
       "{'media aritmetica': 21.0, 'media geometrica': 6.48074069840786}"
      ]
     },
     "execution_count": 4,
     "metadata": {},
     "output_type": "execute_result"
    }
   ],
   "source": [
    "import math\n",
    "n1, n2 = int(input(\"inserire numero 1: \")), int(input(\"inserire numero 2: \"))\n",
    "dizionario = {\"media aritmetica\": (n1*n2/2), \"media geometrica\": (n1*n2)**0.5}\n",
    "dizionario"
   ]
  },
  {
   "cell_type": "code",
   "execution_count": null,
   "id": "be498ab3",
   "metadata": {},
   "outputs": [],
   "source": []
  }
 ],
 "metadata": {
  "kernelspec": {
   "display_name": "Python 3 (ipykernel)",
   "language": "python",
   "name": "python3"
  },
  "language_info": {
   "codemirror_mode": {
    "name": "ipython",
    "version": 3
   },
   "file_extension": ".py",
   "mimetype": "text/x-python",
   "name": "python",
   "nbconvert_exporter": "python",
   "pygments_lexer": "ipython3",
   "version": "3.11.4"
  }
 },
 "nbformat": 4,
 "nbformat_minor": 5
}
